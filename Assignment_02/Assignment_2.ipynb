{
 "cells": [
  {
   "cell_type": "code",
   "execution_count": 97,
   "metadata": {},
   "outputs": [],
   "source": [
    "import numpy as np\n",
    "import math"
   ]
  },
  {
   "cell_type": "code",
   "execution_count": 98,
   "metadata": {},
   "outputs": [
    {
     "name": "stdout",
     "output_type": "stream",
     "text": [
      "[[ 76.  126.   38. ]\n",
      " [ 74.  120.   38. ]\n",
      " [ 74.  118.   37.5]\n",
      " [ 78.  136.   37. ]]\n"
     ]
    }
   ],
   "source": [
    "patient_array = np.array([[76,126,38.0], [74,120,38.0], [74,118,37.5], [78,136,37.0]])\n",
    "\n",
    "print(patient_array)"
   ]
  },
  {
   "cell_type": "code",
   "execution_count": 99,
   "metadata": {},
   "outputs": [
    {
     "name": "stdout",
     "output_type": "stream",
     "text": [
      "[ 75.5   125.     37.625]\n"
     ]
    }
   ],
   "source": [
    "avg = np.mean(patient_array, axis = 0)              # Average of all features\n",
    "print(avg)"
   ]
  },
  {
   "cell_type": "code",
   "execution_count": 100,
   "metadata": {},
   "outputs": [
    {
     "name": "stdout",
     "output_type": "stream",
     "text": [
      "[1.1792476415070754, 5.23360535386458, 7.160001745809843, 11.297815054248321]\n",
      "The patient farthest from the rest is: 4\n"
     ]
    }
   ],
   "source": [
    "distance = []                                   # Stores the distances from average point\n",
    "\n",
    "for i,ele in enumerate(patient_array):          # Subtract vectors and find the distance\n",
    "    temp = (patient_array[i] - avg) ** 2             \n",
    "    dist = math.sqrt(temp.sum())\n",
    "    distance.append(dist)\n",
    "\n",
    "print(distance)\n",
    "                                                  # Adding 1 to index since python index starts from 0              \n",
    "print(\"The patient farthest from the rest is: \" + str(distance.index(max(distance)) + 1))\n"
   ]
  },
  {
   "cell_type": "code",
   "execution_count": 101,
   "metadata": {},
   "outputs": [
    {
     "name": "stdout",
     "output_type": "stream",
     "text": [
      "4\n",
      "0 1\n",
      "0 2\n",
      "0 3\n",
      "1 2\n",
      "1 3\n",
      "2 3\n",
      "[[6.324555320336759, 0, 1], [8.261355820929152, 0, 2], [10.246950765959598, 0, 3], [2.0615528128088303, 1, 2], [16.522711641858304, 1, 3], [18.445866745696716, 2, 3]]\n",
      "3\n",
      "Nearest patients are: 2 and 3\n"
     ]
    }
   ],
   "source": [
    "n = patient_array.shape[0]                  # taking number of rows\n",
    "print(n)\n",
    "\n",
    "dis = []\n",
    "i=0\n",
    "j=0\n",
    "\n",
    "while i < n-1:                                 # To calculate distance from each and every element and store in 'dis' list                 \n",
    "    while j < n-1:\n",
    "        temp1 = (patient_array[i] - patient_array[j+1]) ** 2\n",
    "        dist = math.sqrt(temp1.sum())\n",
    "        dis.append([dist,i,j+1])                # 'dis' contains list of [distance of 2 element, 1st element, 2nd element]\n",
    "        print(i,j+1)                            # patients whoes distance have been calculated in this iteration\n",
    "        j += 1\n",
    "    i += 1\n",
    "    j = i\n",
    "\n",
    "print(dis)\n",
    "\n",
    "dis = np.array(dis)\n",
    "\n",
    "minimun = dis[0][0]\n",
    "                                                        # Find the minimum in 'dis \n",
    "for i,ele in enumerate(dis):\n",
    "    if minimun > dis[i,0]:\n",
    "        minimun = dis[i,0]\n",
    "    \n",
    "\n",
    "\n",
    "n = np.argwhere(dis == minimun)[0,0]                    # return the index of the minimun element \n",
    "\n",
    "print(n)\n",
    "                                                            # Adding 1 to index since python index starts from 0\n",
    "print(\"Nearest patients are: \" +  str(int(dis[n,1]) + 1) + \" and \" + str(int(dis[n,2]) + 1))"
   ]
  },
  {
   "cell_type": "code",
   "execution_count": 102,
   "metadata": {},
   "outputs": [
    {
     "name": "stdout",
     "output_type": "stream",
     "text": [
      "[24.096472770926454, 27.21470190907848, 27.8583919133894, 23.410254163507066]\n",
      "23.410254163507066\n",
      "The nearest patient to Patient 5 is: 4\n"
     ]
    }
   ],
   "source": [
    "pat_5 = [100,128,37.2]                                  # declare new patient\n",
    "\n",
    "di = []                                                 # 'di' list to store distance of all patients from 5th patients\n",
    "\n",
    "for i,ele in enumerate(patient_array):                  # Store elements in 'di'\n",
    "    t = (pat_5 - patient_array[i]) ** 2\n",
    "    d = math.sqrt(t.sum())\n",
    "    di.append(d)\n",
    "\n",
    "print(di)\n",
    "\n",
    "print(min(di))          \n",
    "                                                # Adding 1 to index since python index starts from 0\n",
    "print(\"The nearest patient to Patient 5 is:\" + \" \" + str(di.index(min(di))+1))"
   ]
  },
  {
   "cell_type": "markdown",
   "metadata": {},
   "source": [
    "1.1 In this program the time complexity of finding farthest patient is O(n) where n is the row elements of patient array\n",
    " \n",
    "1.2 The time complexity of finding 2 close patients is O($n^2$)\n",
    "\n",
    "2 We could use it to find different patients of severe condition and seperate then. If there was a feature like \"Insurance\", we could use it to segregate patients who have and have not paid insurace, thus saving time in managing a hospital.  \n",
    "\n"
   ]
  }
 ],
 "metadata": {
  "kernelspec": {
   "display_name": "sem1",
   "language": "python",
   "name": "python3"
  },
  "language_info": {
   "codemirror_mode": {
    "name": "ipython",
    "version": 3
   },
   "file_extension": ".py",
   "mimetype": "text/x-python",
   "name": "python",
   "nbconvert_exporter": "python",
   "pygments_lexer": "ipython3",
   "version": "3.9.17"
  },
  "orig_nbformat": 4
 },
 "nbformat": 4,
 "nbformat_minor": 2
}
